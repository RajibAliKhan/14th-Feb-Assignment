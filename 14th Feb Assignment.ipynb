{
 "cells": [
  {
   "cell_type": "code",
   "execution_count": null,
   "id": "f109b8e4-f88f-4973-90c7-007d24b78329",
   "metadata": {},
   "outputs": [],
   "source": [
    "# Answer of Q1 :"
   ]
  },
  {
   "cell_type": "code",
   "execution_count": null,
   "id": "012a1938-dcb9-40a6-8471-2dd7c7517164",
   "metadata": {},
   "outputs": [],
   "source": [
    "Multithreading is a process of running multiple threads simultaneously within a single process / core.\n",
    "\n",
    "Uses :\n",
    "    It is used to improve the performance of a program.\n",
    "    It enables multitasking activities of CPU.\n",
    "    \n",
    "Module Name :\n",
    "    threading"
   ]
  },
  {
   "cell_type": "code",
   "execution_count": null,
   "id": "ec627a07-5325-4578-8c50-62bdf447eca5",
   "metadata": {},
   "outputs": [],
   "source": [
    "# Answer of Q2 :"
   ]
  },
  {
   "cell_type": "code",
   "execution_count": null,
   "id": "c80c0a34-6c7b-41c7-8a2d-4289a3a6ec55",
   "metadata": {},
   "outputs": [],
   "source": [
    "Threading module is used to handle multiple threads in a single core.\n",
    "\n",
    "1. activeCount() : \n",
    "    It is used to retrieve the number of thread currently active and running in the current Python program. \n",
    "2. currentThread() : \n",
    "    It returns the thread that is related to the currently executing thread.\n",
    "3. enumerate() : \n",
    "    It is used to return a list of all active thread in the current Python program."
   ]
  },
  {
   "cell_type": "code",
   "execution_count": null,
   "id": "1a0a863a-529e-425f-a996-4d012eb60b9a",
   "metadata": {},
   "outputs": [],
   "source": [
    "# Answer of Q3 :"
   ]
  },
  {
   "cell_type": "code",
   "execution_count": null,
   "id": "561f913e-0135-4e4d-91c5-fd24ed0788e1",
   "metadata": {},
   "outputs": [],
   "source": [
    "1. run() :\n",
    "    It represents the entry point for the thread's activity.\n",
    "    It define the task or activity of the thread.\n",
    "2. start() :\n",
    "   It is used to start the execution of a thread.\n",
    "   It is also used for processing a child process.\n",
    "3. join() :\n",
    "    It is used after termination of child process and release all resourses.\n",
    "4. is_alive() :\n",
    "    It is used to check whether a thread is currently active and running."
   ]
  },
  {
   "cell_type": "code",
   "execution_count": null,
   "id": "e0c85811-5e02-44aa-9f4a-1dc66aeecd24",
   "metadata": {},
   "outputs": [],
   "source": [
    "# Answer of Q4 :"
   ]
  },
  {
   "cell_type": "code",
   "execution_count": 2,
   "id": "d2839daa-2762-4d57-a407-c8389d16e947",
   "metadata": {},
   "outputs": [
    {
     "name": "stdout",
     "output_type": "stream",
     "text": [
      "The list of square [0, 1, 4, 9, 16, 25, 36, 49, 64, 81]\n",
      "The list of cubes [0, 1, 8, 27, 64, 125, 216, 343, 512, 729]\n"
     ]
    }
   ],
   "source": [
    "import threading\n",
    "\n",
    "def square() :\n",
    "    sq = [i ** 2 for i in range(10)]\n",
    "    print('The list of square', sq)\n",
    "    \n",
    "def cubes() :\n",
    "    cub = [i ** 3 for i in range(10)]\n",
    "    print('The list of cubes', cub)\n",
    "    \n",
    "thread1 = threading.Thread(target= square)\n",
    "thread2 = threading.Thread(target= cubes)\n",
    "\n",
    "thread1.start()\n",
    "thread2.start()\n",
    "\n",
    "thread1.join()\n",
    "thread2.join()"
   ]
  },
  {
   "cell_type": "code",
   "execution_count": null,
   "id": "59fa5957-50e7-42d5-8e3c-3ba922daf7b3",
   "metadata": {},
   "outputs": [],
   "source": [
    "# Answer of Q5 :"
   ]
  },
  {
   "cell_type": "code",
   "execution_count": null,
   "id": "14f9d688-2375-4784-bbe9-8f4e75c98887",
   "metadata": {},
   "outputs": [],
   "source": [
    "Advantages of Multithreading :\n",
    "    1. It helps to improve the performance of a program.\n",
    "    2. It provide a simplified program for coding.\n",
    "    3. It can enhance overall performance by utilizing multiple CPU cores.\n",
    "    \n",
    "Disadvantages of Multithreading :\n",
    "    1. Sometimes, it add more complexity to the program.\n",
    "    2. Sometimes, it is limited by the number of available cores or processors in the system. \n",
    "    3. In some cases, excessive use of threads can lead to performance degradation instead of improvement."
   ]
  },
  {
   "cell_type": "code",
   "execution_count": null,
   "id": "fe602cff-9170-46a5-82c3-51b36d679aaa",
   "metadata": {},
   "outputs": [],
   "source": [
    "# Answer of Q6 :"
   ]
  },
  {
   "cell_type": "code",
   "execution_count": null,
   "id": "c6052afa-665d-4e1e-af56-ff9dfb0305a1",
   "metadata": {},
   "outputs": [],
   "source": [
    "Deadlocks :\n",
    "    A deadlock occurs when two or more threads are blocked indefinately / forever because they are waiting for each other.\n",
    "Race Conditions:\n",
    "    A race condition occurs when two threads access a shared variable at the same time. "
   ]
  }
 ],
 "metadata": {
  "kernelspec": {
   "display_name": "Python 3 (ipykernel)",
   "language": "python",
   "name": "python3"
  },
  "language_info": {
   "codemirror_mode": {
    "name": "ipython",
    "version": 3
   },
   "file_extension": ".py",
   "mimetype": "text/x-python",
   "name": "python",
   "nbconvert_exporter": "python",
   "pygments_lexer": "ipython3",
   "version": "3.10.8"
  }
 },
 "nbformat": 4,
 "nbformat_minor": 5
}
